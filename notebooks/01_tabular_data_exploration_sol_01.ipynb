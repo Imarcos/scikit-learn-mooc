{
 "cells": [
  {
   "cell_type": "markdown",
   "id": "fe11a0e7",
   "metadata": {},
   "source": [
    "# 📃 Solution for Exercise M1.01"
   ]
  },
  {
   "cell_type": "markdown",
   "id": "a8c71ff9",
   "metadata": {},
   "source": [
    "Imagine we are interested in predicting penguins species based on two of\n",
    "their body measurements: culmen length and culmen depth. First we want to do\n",
    "some data exploration to get a feel for the data.\n",
    "\n",
    "What are the features? What is the target?"
   ]
  },
  {
   "cell_type": "markdown",
   "id": "24ce0a64",
   "metadata": {
    "tags": [
     "solution"
    ]
   },
   "source": [
    "The features are \"culmen length\" and \"culmen depth\".\n",
    "The target is the penguin species."
   ]
  },
  {
   "cell_type": "markdown",
   "id": "732ec930",
   "metadata": {},
   "source": [
    "The data is located in `../datasets/penguins_classification.csv`, load it\n",
    "with `pandas` into a `DataFrame`."
   ]
  },
  {
   "cell_type": "code",
   "execution_count": 2,
   "id": "e3b013be",
   "metadata": {},
   "outputs": [],
   "source": [
    "# solution\n",
    "import pandas as pd\n",
    "\n",
    "penguins = pd.read_csv(\"../datasets/penguins_classification.csv\")"
   ]
  },
  {
   "cell_type": "markdown",
   "id": "ee264829",
   "metadata": {},
   "source": [
    "Show a few samples of the data\n",
    "\n",
    "How many features are numerical? How many features are categorical?"
   ]
  },
  {
   "cell_type": "markdown",
   "id": "851a6bac",
   "metadata": {
    "tags": [
     "solution"
    ]
   },
   "source": [
    "Both features, \"culmen length\" and \"culmen depth\" are numerical. There are no\n",
    "categorical features in this dataset."
   ]
  },
  {
   "cell_type": "code",
   "execution_count": 3,
   "id": "3c702fb8",
   "metadata": {},
   "outputs": [
    {
     "data": {
      "text/html": [
       "<div>\n",
       "<style scoped>\n",
       "    .dataframe tbody tr th:only-of-type {\n",
       "        vertical-align: middle;\n",
       "    }\n",
       "\n",
       "    .dataframe tbody tr th {\n",
       "        vertical-align: top;\n",
       "    }\n",
       "\n",
       "    .dataframe thead th {\n",
       "        text-align: right;\n",
       "    }\n",
       "</style>\n",
       "<table border=\"1\" class=\"dataframe\">\n",
       "  <thead>\n",
       "    <tr style=\"text-align: right;\">\n",
       "      <th></th>\n",
       "      <th>Culmen Length (mm)</th>\n",
       "      <th>Culmen Depth (mm)</th>\n",
       "      <th>Species</th>\n",
       "    </tr>\n",
       "  </thead>\n",
       "  <tbody>\n",
       "    <tr>\n",
       "      <th>0</th>\n",
       "      <td>39.1</td>\n",
       "      <td>18.7</td>\n",
       "      <td>Adelie</td>\n",
       "    </tr>\n",
       "    <tr>\n",
       "      <th>1</th>\n",
       "      <td>39.5</td>\n",
       "      <td>17.4</td>\n",
       "      <td>Adelie</td>\n",
       "    </tr>\n",
       "    <tr>\n",
       "      <th>2</th>\n",
       "      <td>40.3</td>\n",
       "      <td>18.0</td>\n",
       "      <td>Adelie</td>\n",
       "    </tr>\n",
       "    <tr>\n",
       "      <th>3</th>\n",
       "      <td>36.7</td>\n",
       "      <td>19.3</td>\n",
       "      <td>Adelie</td>\n",
       "    </tr>\n",
       "    <tr>\n",
       "      <th>4</th>\n",
       "      <td>39.3</td>\n",
       "      <td>20.6</td>\n",
       "      <td>Adelie</td>\n",
       "    </tr>\n",
       "  </tbody>\n",
       "</table>\n",
       "</div>"
      ],
      "text/plain": [
       "   Culmen Length (mm)  Culmen Depth (mm) Species\n",
       "0                39.1               18.7  Adelie\n",
       "1                39.5               17.4  Adelie\n",
       "2                40.3               18.0  Adelie\n",
       "3                36.7               19.3  Adelie\n",
       "4                39.3               20.6  Adelie"
      ]
     },
     "execution_count": 3,
     "metadata": {},
     "output_type": "execute_result"
    }
   ],
   "source": [
    "# solution\n",
    "penguins.head()"
   ]
  },
  {
   "cell_type": "markdown",
   "id": "eaffff7a",
   "metadata": {},
   "source": [
    "What are the different penguins species available in the dataset and how many\n",
    "samples of each species are there? Hint: select the right column and use\n",
    "the [`value_counts`](https://pandas.pydata.org/pandas-docs/stable/reference/api/pandas.Series.value_counts.html) method."
   ]
  },
  {
   "cell_type": "code",
   "execution_count": 4,
   "id": "95336c20",
   "metadata": {},
   "outputs": [
    {
     "data": {
      "text/plain": [
       "Adelie       151\n",
       "Gentoo       123\n",
       "Chinstrap     68\n",
       "Name: Species, dtype: int64"
      ]
     },
     "execution_count": 4,
     "metadata": {},
     "output_type": "execute_result"
    }
   ],
   "source": [
    "# solution\n",
    "penguins[\"Species\"].value_counts()"
   ]
  },
  {
   "cell_type": "markdown",
   "id": "d083d063",
   "metadata": {},
   "source": [
    "Plot histograms for the numerical features"
   ]
  },
  {
   "cell_type": "code",
   "execution_count": 5,
   "id": "8e5e6df9",
   "metadata": {},
   "outputs": [
    {
     "data": {
      "image/png": "[encoded data removed]",
      "text/plain": [
       "<Figure size 576x288 with 2 Axes>"
      ]
     },
     "metadata": {
      "needs_background": "light"
     },
     "output_type": "display_data"
    }
   ],
   "source": [
    "# solution\n",
    "_ = penguins.hist(figsize=(8, 4))"
   ]
  },
  {
   "cell_type": "markdown",
   "id": "ed96f84d",
   "metadata": {},
   "source": [
    "Show features distribution for each class. Hint: use\n",
    "[`seaborn.pairplot`](https://seaborn.pydata.org/generated/seaborn.pairplot.html)"
   ]
  },
  {
   "cell_type": "code",
   "execution_count": 7,
   "id": "016ee166",
   "metadata": {},
   "outputs": [
    {
     "ename": "ModuleNotFoundError",
     "evalue": "No module named 'seaborn'",
     "output_type": "error",
     "traceback": [
      "\u001b[1;31m---------------------------------------------------------------------------\u001b[0m",
      "\u001b[1;31mModuleNotFoundError\u001b[0m                       Traceback (most recent call last)",
      "Input \u001b[1;32mIn [7]\u001b[0m, in \u001b[0;36m<module>\u001b[1;34m\u001b[0m\n\u001b[0;32m      1\u001b[0m \u001b[38;5;66;03m# solution\u001b[39;00m\n\u001b[1;32m----> 2\u001b[0m \u001b[38;5;28;01mimport\u001b[39;00m \u001b[38;5;21;01mseaborn\u001b[39;00m\n\u001b[0;32m      4\u001b[0m pairplot_figure \u001b[38;5;241m=\u001b[39m seaborn\u001b[38;5;241m.\u001b[39mpairplot(penguins, hue\u001b[38;5;241m=\u001b[39m\u001b[38;5;124m\"\u001b[39m\u001b[38;5;124mSpecies\u001b[39m\u001b[38;5;124m\"\u001b[39m)\n",
      "\u001b[1;31mModuleNotFoundError\u001b[0m: No module named 'seaborn'"
     ]
    }
   ],
   "source": [
    "# solution\n",
    "import seaborn\n",
    "\n",
    "pairplot_figure = seaborn.pairplot(penguins, hue=\"Species\")"
   ]
  },
  {
   "cell_type": "markdown",
   "id": "650030de",
   "metadata": {
    "tags": [
     "solution"
    ]
   },
   "source": [
    "We observe that the labels on the axis are overlapping. Even if it is not\n",
    "the priority of this notebook, one can tweak the by increasing the height\n",
    "of each subfigure."
   ]
  },
  {
   "cell_type": "code",
   "execution_count": null,
   "id": "7a35fe1a",
   "metadata": {
    "tags": [
     "solution"
    ]
   },
   "outputs": [],
   "source": [
    "pairplot_figure = seaborn.pairplot(\n",
    "    penguins, hue=\"Species\", height=4)"
   ]
  },
  {
   "cell_type": "markdown",
   "id": "e9218f02",
   "metadata": {},
   "source": [
    "Looking at these distributions, how hard do you think it will be to classify\n",
    "the penguins only using \"culmen depth\" and \"culmen length\"?"
   ]
  },
  {
   "cell_type": "markdown",
   "id": "7450e7d5",
   "metadata": {
    "tags": [
     "solution"
    ]
   },
   "source": [
    "Looking at the previous scatter-plot showing \"culmen length\" and \"culmen\n",
    "depth\", the species are reasonably well separated:\n",
    "- low culmen length -> Adelie\n",
    "- low culmen depth -> Gentoo\n",
    "- high culmen depth and high culmen length -> Chinstrap\n",
    "\n",
    "There is some small overlap between the species, so we can expect a\n",
    "statistical model to perform well on this dataset but not perfectly."
   ]
  }
 ],
 "metadata": {
  "kernelspec": {
   "display_name": "Python 3",
   "language": "python",
   "name": "python3"
  },
  "language_info": {
   "codemirror_mode": {
    "name": "ipython",
    "version": 3
   },
   "file_extension": ".py",
   "mimetype": "text/x-python",
   "name": "python",
   "nbconvert_exporter": "python",
   "pygments_lexer": "ipython3",
   "version": "3.10.2"
  }
 },
 "nbformat": 4,
 "nbformat_minor": 5
}
